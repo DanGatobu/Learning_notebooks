{
 "cells": [
  {
   "cell_type": "code",
   "execution_count": 1,
   "id": "c0aaf539",
   "metadata": {},
   "outputs": [
    {
     "name": "stdout",
     "output_type": "stream",
     "text": [
      "1\n"
     ]
    }
   ],
   "source": [
    "numbers=[1,2,3,4,5]\n",
    "length_numbers=len(numbers)\n",
    "first=numbers[0]\n",
    "print(first)\n"
   ]
  },
  {
   "cell_type": "code",
   "execution_count": 3,
   "id": "30ea8bb6",
   "metadata": {},
   "outputs": [],
   "source": [
    "def addition(numbers):\n",
    "    numbers=numbers\n",
    "    length_numbers=len(numbers)\n",
    "    first=numbers[0]\n",
    "    indexlist=length_numbers-1\n",
    "    last=numbers[indexlist]\n",
    "\n",
    "\n",
    "\n",
    "    for number in range(length_numbers):\n",
    "        if number==0:\n",
    "            original=numbers[number]\n",
    "            numbers[number]=original\n",
    "        else:\n",
    "            original=numbers[number]\n",
    "            minusindex=number-1\n",
    "            minusvalue=numbers[minusindex]\n",
    "            newvalue=original+minusvalue\n",
    "            numbers[number]=newvalue\n",
    "    return numbers\n",
    "\n",
    "\n"
   ]
  },
  {
   "cell_type": "code",
   "execution_count": 4,
   "id": "debfc8eb",
   "metadata": {
    "scrolled": true
   },
   "outputs": [
    {
     "name": "stdout",
     "output_type": "stream",
     "text": [
      "[1, 3, 6, 10, 15]\n"
     ]
    }
   ],
   "source": [
    "by=addition(numbers)\n",
    "print(by)"
   ]
  },
  {
   "cell_type": "code",
   "execution_count": null,
   "id": "f6da51f5",
   "metadata": {},
   "outputs": [],
   "source": []
  }
 ],
 "metadata": {
  "kernelspec": {
   "display_name": "Python 3 (ipykernel)",
   "language": "python",
   "name": "python3"
  },
  "language_info": {
   "codemirror_mode": {
    "name": "ipython",
    "version": 3
   },
   "file_extension": ".py",
   "mimetype": "text/x-python",
   "name": "python",
   "nbconvert_exporter": "python",
   "pygments_lexer": "ipython3",
   "version": "3.9.12"
  }
 },
 "nbformat": 4,
 "nbformat_minor": 5
}
