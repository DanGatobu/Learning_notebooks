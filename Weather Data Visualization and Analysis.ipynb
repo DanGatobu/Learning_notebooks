{
 "cells": [
  {
   "cell_type": "code",
   "execution_count": 1,
   "id": "9a966549",
   "metadata": {},
   "outputs": [
    {
     "name": "stdout",
     "output_type": "stream",
     "text": [
      "(96453, 12)\n"
     ]
    },
    {
     "name": "stderr",
     "output_type": "stream",
     "text": [
      "C:\\Users\\DELL\\AppData\\Local\\Temp\\ipykernel_17804\\17487374.py:24: SettingWithCopyWarning: \n",
      "A value is trying to be set on a copy of a slice from a DataFrame.\n",
      "Try using .loc[row_indexer,col_indexer] = value instead\n",
      "\n",
      "See the caveats in the documentation: https://pandas.pydata.org/pandas-docs/stable/user_guide/indexing.html#returning-a-view-versus-a-copy\n",
      "  df_train['diff_temperature'] = df_train['Temperature (C)'] - temperature_mean\n",
      "C:\\Users\\DELL\\AppData\\Local\\Temp\\ipykernel_17804\\17487374.py:25: SettingWithCopyWarning: \n",
      "A value is trying to be set on a copy of a slice from a DataFrame.\n",
      "Try using .loc[row_indexer,col_indexer] = value instead\n",
      "\n",
      "See the caveats in the documentation: https://pandas.pydata.org/pandas-docs/stable/user_guide/indexing.html#returning-a-view-versus-a-copy\n",
      "  df_train['diff_windspeed'] = df_train['Wind Speed (km/h)'] - windspeed_mean\n",
      "C:\\Users\\DELL\\AppData\\Local\\Temp\\ipykernel_17804\\17487374.py:26: SettingWithCopyWarning: \n",
      "A value is trying to be set on a copy of a slice from a DataFrame.\n",
      "Try using .loc[row_indexer,col_indexer] = value instead\n",
      "\n",
      "See the caveats in the documentation: https://pandas.pydata.org/pandas-docs/stable/user_guide/indexing.html#returning-a-view-versus-a-copy\n",
      "  df_train['multiplied_values'] = df_train['diff_temperature'] * df_train['diff_windspeed']\n",
      "C:\\Users\\DELL\\AppData\\Local\\Temp\\ipykernel_17804\\17487374.py:27: SettingWithCopyWarning: \n",
      "A value is trying to be set on a copy of a slice from a DataFrame.\n",
      "Try using .loc[row_indexer,col_indexer] = value instead\n",
      "\n",
      "See the caveats in the documentation: https://pandas.pydata.org/pandas-docs/stable/user_guide/indexing.html#returning-a-view-versus-a-copy\n",
      "  df_train['squared_values'] = df_train['diff_temperature'] * df_train['diff_temperature']\n"
     ]
    },
    {
     "name": "stdout",
     "output_type": "stream",
     "text": [
      "10.74450445740538 0.005782962670853067\n"
     ]
    },
    {
     "data": {
      "image/png": "[encoded data removed]",
      "text/plain": [
       "<Figure size 432x288 with 1 Axes>"
      ]
     },
     "metadata": {
      "needs_background": "light"
     },
     "output_type": "display_data"
    }
   ],
   "source": [
    "%matplotlib inline\n",
    "import numpy as np\n",
    "import pandas as pd \n",
    "import matplotlib.pyplot as plt\n",
    "\n",
    "dataset = pd.read_csv('weatherHistory.csv')\n",
    "print(dataset.shape)\n",
    "dataset.head()\n",
    "\n",
    "randomseed = 29\n",
    "dataset_shuffled = dataset.sample(frac=1, random_state=randomseed)\n",
    "train_proportion = 0.8\n",
    "\n",
    "train_rows = int(len(dataset_shuffled) * train_proportion)\n",
    "test_rows = len(dataset_shuffled) - train_rows\n",
    "\n",
    "df_train = dataset_shuffled.head(train_rows)\n",
    "df_test = dataset_shuffled.tail(test_rows)\n",
    "x = df_train['Temperature (C)']\n",
    "y = df_train['Wind Speed (km/h)']\n",
    "temperature_mean = np.mean(x)\n",
    "windspeed_mean = np.mean(y)\n",
    "\n",
    "df_train['diff_temperature'] = df_train['Temperature (C)'] - temperature_mean\n",
    "df_train['diff_windspeed'] = df_train['Wind Speed (km/h)'] - windspeed_mean\n",
    "df_train['multiplied_values'] = df_train['diff_temperature'] * df_train['diff_windspeed']\n",
    "df_train['squared_values'] = df_train['diff_temperature'] * df_train['diff_temperature']\n",
    "\n",
    "temp_value1 = df_train['multiplied_values']\n",
    "temp_value2 = df_train['squared_values']\n",
    "\n",
    "added_values1 = np.sum(temp_value1)\n",
    "added_values2 = np.sum(temp_value2)\n",
    "\n",
    "m_value = added_values1 / added_values2\n",
    "this_value = windspeed_mean - (m_value * temperature_mean)\n",
    "print(this_value, m_value)\n",
    "\n",
    "max_x = np.max(x) + 100\n",
    "min_x = np.min(x) - 100\n",
    "\n",
    "value_x = np.linspace(min_x, max_x, 1000)\n",
    "value_y = m_value * value_x + this_value\n",
    "\n",
    "plt.plot(value_x, value_y, c='#58b970', label='regression line')\n",
    "plt.scatter(x, y, c='#ef5423', label='scatter plot')\n",
    "\n",
    "plt.xlabel('temperature')\n",
    "plt.ylabel('windspeed')\n",
    "plt.legend()\n",
    "plt.show()\n"
   ]
  },
  {
   "cell_type": "code",
   "execution_count": null,
   "id": "a75cc8c3",
   "metadata": {},
   "outputs": [],
   "source": []
  }
 ],
 "metadata": {
  "kernelspec": {
   "display_name": "Python 3 (ipykernel)",
   "language": "python",
   "name": "python3"
  },
  "language_info": {
   "codemirror_mode": {
    "name": "ipython",
    "version": 3
   },
   "file_extension": ".py",
   "mimetype": "text/x-python",
   "name": "python",
   "nbconvert_exporter": "python",
   "pygments_lexer": "ipython3",
   "version": "3.9.12"
  }
 },
 "nbformat": 4,
 "nbformat_minor": 5
}
