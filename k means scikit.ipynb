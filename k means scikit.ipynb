{
 "cells": [
  {
   "cell_type": "code",
   "execution_count": 1,
   "id": "001825f7",
   "metadata": {},
   "outputs": [],
   "source": [
    "%matplotlib inline\n",
    "import numpy as np\n",
    "import pandas as pd\n",
    "import matplotlib.pyplot as plt\n",
    "import sklearn\n",
    "from sklearn.cluster import KMeans\n",
    "from sklearn.preprocessing import StandardScaler\n",
    "from  mpl_toolkits.mplot3d import Axes3D\n",
    "\n",
    "\n",
    "songs_2010=pd.read_csv('2010.csv')\n",
    "songs_2000=pd.read_csv('2000.csv')\n",
    "songs_1990=pd.read_csv('1990.csv')\n",
    "songs_1980=pd.read_csv('1980.csv')\n",
    "songs_1970=pd.read_csv('1970.csv')\n",
    "songs_1960=pd.read_csv('1960.csv')\n",
    "\n",
    "allsongs=pd.concat([songs_2010,songs_2000,songs_1990,songs_1980,songs_1970,songs_1960],axis=0, ignore_index=True)\n",
    "\n",
    "features=['bpm','nrgy','dnce']\n",
    "info=allsongs.dropna(subset=features)\n",
    "\n",
    "data=info[features].copy()\n",
    "\n"
   ]
  },
  {
   "cell_type": "code",
   "execution_count": 2,
   "id": "e978c51c",
   "metadata": {},
   "outputs": [],
   "source": [
    "data = (data - data.min()) / (data.max() - data.min())\n",
    "data2=data"
   ]
  },
  {
   "cell_type": "code",
   "execution_count": 3,
   "id": "7d0a759e",
   "metadata": {},
   "outputs": [],
   "source": [
    "def optimize(data,maxk):\n",
    "    means=[]\n",
    "    initials=[]\n",
    "    for k in range(1,maxk):\n",
    "        kmeans=KMeans(n_clusters=k)\n",
    "        kmeans.fit(data)\n",
    "        means.append(k)\n",
    "        initials.append(kmeans.inertia_)\n",
    "        \n",
    "    fig=plt.subplots(figsize=(10,5))\n",
    "    plt.plot(means,initials,'o-')\n",
    "    plt.xlabel('clusters')\n",
    "    plt.ylabel('inertia')\n",
    "    plt.grid(True)\n",
    "    plt.show()\n",
    "        "
   ]
  },
  {
   "cell_type": "code",
   "execution_count": 4,
   "id": "cf0bbd97",
   "metadata": {},
   "outputs": [
    {
     "name": "stderr",
     "output_type": "stream",
     "text": [
      "C:\\Users\\DELL\\anaconda3\\lib\\site-packages\\sklearn\\cluster\\_kmeans.py:1036: UserWarning: KMeans is known to have a memory leak on Windows with MKL, when there are less chunks than available threads. You can avoid it by setting the environment variable OMP_NUM_THREADS=3.\n",
      "  warnings.warn(\n"
     ]
    },
    {
     "data": {
      "image/png": "[encoded data removed]",
      "text/plain": [
       "<Figure size 720x360 with 1 Axes>"
      ]
     },
     "metadata": {
      "needs_background": "light"
     },
     "output_type": "display_data"
    }
   ],
   "source": [
    "optimize(data,10)"
   ]
  },
  {
   "cell_type": "code",
   "execution_count": 5,
   "id": "d505c644",
   "metadata": {},
   "outputs": [],
   "source": [
    "kmeans=KMeans(n_clusters=3)\n",
    "kmeans.fit(data)\n",
    "data2['kmeanslabels']=kmeans.labels_\n",
    "\n"
   ]
  },
  {
   "cell_type": "code",
   "execution_count": 6,
   "id": "74561ef9",
   "metadata": {},
   "outputs": [
    {
     "data": {
      "text/html": [
       "<div>\n",
       "<style scoped>\n",
       "    .dataframe tbody tr th:only-of-type {\n",
       "        vertical-align: middle;\n",
       "    }\n",
       "\n",
       "    .dataframe tbody tr th {\n",
       "        vertical-align: top;\n",
       "    }\n",
       "\n",
       "    .dataframe thead th {\n",
       "        text-align: right;\n",
       "    }\n",
       "</style>\n",
       "<table border=\"1\" class=\"dataframe\">\n",
       "  <thead>\n",
       "    <tr style=\"text-align: right;\">\n",
       "      <th></th>\n",
       "      <th>bpm</th>\n",
       "      <th>nrgy</th>\n",
       "      <th>dnce</th>\n",
       "      <th>kmeanslabels</th>\n",
       "    </tr>\n",
       "  </thead>\n",
       "  <tbody>\n",
       "    <tr>\n",
       "      <th>0</th>\n",
       "      <td>0.532847</td>\n",
       "      <td>0.393617</td>\n",
       "      <td>0.657895</td>\n",
       "      <td>1</td>\n",
       "    </tr>\n",
       "    <tr>\n",
       "      <th>1</th>\n",
       "      <td>0.569343</td>\n",
       "      <td>0.276596</td>\n",
       "      <td>0.763158</td>\n",
       "      <td>1</td>\n",
       "    </tr>\n",
       "    <tr>\n",
       "      <th>2</th>\n",
       "      <td>0.540146</td>\n",
       "      <td>0.595745</td>\n",
       "      <td>0.894737</td>\n",
       "      <td>1</td>\n",
       "    </tr>\n",
       "    <tr>\n",
       "      <th>3</th>\n",
       "      <td>0.401460</td>\n",
       "      <td>0.521277</td>\n",
       "      <td>0.736842</td>\n",
       "      <td>1</td>\n",
       "    </tr>\n",
       "    <tr>\n",
       "      <th>4</th>\n",
       "      <td>0.715328</td>\n",
       "      <td>0.489362</td>\n",
       "      <td>0.513158</td>\n",
       "      <td>0</td>\n",
       "    </tr>\n",
       "    <tr>\n",
       "      <th>...</th>\n",
       "      <td>...</td>\n",
       "      <td>...</td>\n",
       "      <td>...</td>\n",
       "      <td>...</td>\n",
       "    </tr>\n",
       "    <tr>\n",
       "      <th>589</th>\n",
       "      <td>0.496350</td>\n",
       "      <td>0.638298</td>\n",
       "      <td>0.407895</td>\n",
       "      <td>2</td>\n",
       "    </tr>\n",
       "    <tr>\n",
       "      <th>590</th>\n",
       "      <td>0.080292</td>\n",
       "      <td>0.372340</td>\n",
       "      <td>0.250000</td>\n",
       "      <td>0</td>\n",
       "    </tr>\n",
       "    <tr>\n",
       "      <th>591</th>\n",
       "      <td>0.379562</td>\n",
       "      <td>0.755319</td>\n",
       "      <td>0.631579</td>\n",
       "      <td>1</td>\n",
       "    </tr>\n",
       "    <tr>\n",
       "      <th>592</th>\n",
       "      <td>0.489051</td>\n",
       "      <td>0.659574</td>\n",
       "      <td>0.381579</td>\n",
       "      <td>2</td>\n",
       "    </tr>\n",
       "    <tr>\n",
       "      <th>593</th>\n",
       "      <td>1.000000</td>\n",
       "      <td>0.712766</td>\n",
       "      <td>0.289474</td>\n",
       "      <td>2</td>\n",
       "    </tr>\n",
       "  </tbody>\n",
       "</table>\n",
       "<p>594 rows × 4 columns</p>\n",
       "</div>"
      ],
      "text/plain": [
       "          bpm      nrgy      dnce  kmeanslabels\n",
       "0    0.532847  0.393617  0.657895             1\n",
       "1    0.569343  0.276596  0.763158             1\n",
       "2    0.540146  0.595745  0.894737             1\n",
       "3    0.401460  0.521277  0.736842             1\n",
       "4    0.715328  0.489362  0.513158             0\n",
       "..        ...       ...       ...           ...\n",
       "589  0.496350  0.638298  0.407895             2\n",
       "590  0.080292  0.372340  0.250000             0\n",
       "591  0.379562  0.755319  0.631579             1\n",
       "592  0.489051  0.659574  0.381579             2\n",
       "593  1.000000  0.712766  0.289474             2\n",
       "\n",
       "[594 rows x 4 columns]"
      ]
     },
     "execution_count": 6,
     "metadata": {},
     "output_type": "execute_result"
    }
   ],
   "source": [
    "data\n",
    "data2"
   ]
  },
  {
   "cell_type": "code",
   "execution_count": 7,
   "id": "9eecc231",
   "metadata": {},
   "outputs": [],
   "source": [
    "from sklearn.decomposition import PCA\n",
    "from IPython.display import clear_output"
   ]
  },
  {
   "cell_type": "code",
   "execution_count": 8,
   "id": "8b01463f",
   "metadata": {},
   "outputs": [],
   "source": [
    "def plot_clusters(data,data2):\n",
    "    pca=PCA(n_components=2)\n",
    "    data_2d=pca.fit_transform(data)\n",
    "    plt.title(f'kmeans')\n",
    "    plt.scatter(x=data_2d[:,0],y=data_2d[:,1],c=data2['kmeanslabels'])\n",
    "    plt.show()\n",
    "    "
   ]
  },
  {
   "cell_type": "code",
   "execution_count": 9,
   "id": "3b90676c",
   "metadata": {},
   "outputs": [
    {
     "data": {
      "image/png": "[encoded data removed]",
      "text/plain": [
       "<Figure size 432x288 with 1 Axes>"
      ]
     },
     "metadata": {
      "needs_background": "light"
     },
     "output_type": "display_data"
    }
   ],
   "source": [
    "plot_clusters(data,data2)"
   ]
  },
  {
   "cell_type": "code",
   "execution_count": null,
   "id": "79d96446",
   "metadata": {},
   "outputs": [],
   "source": []
  }
 ],
 "metadata": {
  "kernelspec": {
   "display_name": "Python 3 (ipykernel)",
   "language": "python",
   "name": "python3"
  },
  "language_info": {
   "codemirror_mode": {
    "name": "ipython",
    "version": 3
   },
   "file_extension": ".py",
   "mimetype": "text/x-python",
   "name": "python",
   "nbconvert_exporter": "python",
   "pygments_lexer": "ipython3",
   "version": "3.9.12"
  }
 },
 "nbformat": 4,
 "nbformat_minor": 5
}
