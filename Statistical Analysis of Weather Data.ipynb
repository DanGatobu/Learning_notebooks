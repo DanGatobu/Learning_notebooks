{
 "cells": [
  {
   "cell_type": "markdown",
   "id": "d11ef9ae",
   "metadata": {},
   "source": [
    "## installing libraries"
   ]
  },
  {
   "cell_type": "code",
   "execution_count": null,
   "id": "4d425c16",
   "metadata": {},
   "outputs": [],
   "source": [
    "%matplotlib inline\n",
    "import numpy as np\n",
    "import pandas as pd \n",
    "import matplotlib as plt\n",
    "\n",
    "\n",
    "dataset=pd.read_csv('weatherHistory.csv')\n",
    "print(dataset.shape)\n",
    "dataset.head()"
   ]
  },
  {
   "cell_type": "code",
   "execution_count": null,
   "id": "0836a4c8",
   "metadata": {},
   "outputs": [],
   "source": [
    "randomseed=29\n",
    "dataset_shuffled=dataset.sample(frac=1,random_state=randomseed)\n",
    "train_proportion = 0.8  \n",
    "\n",
    "\n",
    "train_rows = int(len(dataset_shuffled) * train_proportion)\n",
    "test_rows = len(dataset_shuffled) - train_rows\n",
    "\n",
    "\n",
    "df_train = dataset_shuffled.head(train_rows)\n",
    "df_test = dataset_shuffled.tail(test_rows)\n",
    "x=df_train['Temperature (C)']\n",
    "y=df_train['Wind Speed (km/h)']\n",
    "temperature_mean=np.mean(x)\n",
    "windspeed_mean=np.mean(y)\n",
    "\n",
    "df_train['diff_temperature']=df_train['Temperature (C)']-temperature_mean\n",
    "df_train['diff_windspeed']=df_train['Wind Speed (km/h)']-windspeed_mean\n",
    "df_train['multiplied_values']=df_train['diff_temperature']*df_train['diff_windspeed']\n",
    "df_train['squared_values']=df_train['diff_temperature']*df_train['diff_temperature']\n",
    "\n",
    "temp_value1=df_train['multiplied_values']\n",
    "temp_value2=df_train['squared_values']\n",
    "\n",
    "added_values1=np.sum(temp_value1)\n",
    "added_values2=np.sum(temp_value2)\n",
    "\n",
    "m_value=added_values1/added_values2\n",
    "\n",
    "\n",
    "\n",
    "\n",
    "\n",
    "\n",
    "\n",
    "print(m_value)\n",
    "    \n",
    "    \n",
    "\n",
    "\n",
    "\n"
   ]
  },
  {
   "cell_type": "code",
   "execution_count": 4,
   "id": "40dd42f2",
   "metadata": {},
   "outputs": [
    {
     "ename": "NameError",
     "evalue": "name 'windspeed_mean' is not defined",
     "output_type": "error",
     "traceback": [
      "\u001b[1;31m---------------------------------------------------------------------------\u001b[0m",
      "\u001b[1;31mNameError\u001b[0m                                 Traceback (most recent call last)",
      "Input \u001b[1;32mIn [4]\u001b[0m, in \u001b[0;36m<cell line: 1>\u001b[1;34m()\u001b[0m\n\u001b[1;32m----> 1\u001b[0m this_value\u001b[38;5;241m=\u001b[39m\u001b[43mwindspeed_mean\u001b[49m\u001b[38;5;241m-\u001b[39m(m_value\u001b[38;5;241m*\u001b[39mtemperature_mean)\n\u001b[0;32m      2\u001b[0m \u001b[38;5;28mprint\u001b[39m(this_value,m_value)\n",
      "\u001b[1;31mNameError\u001b[0m: name 'windspeed_mean' is not defined"
     ]
    }
   ],
   "source": [
    "this_value=windspeed_mean-(m_value*temperature_mean)\n",
    "print(this_value,m_value)\n"
   ]
  },
  {
   "cell_type": "code",
   "execution_count": null,
   "id": "ae60a198",
   "metadata": {},
   "outputs": [],
   "source": []
  }
 ],
 "metadata": {
  "kernelspec": {
   "display_name": "Python 3 (ipykernel)",
   "language": "python",
   "name": "python3"
  },
  "language_info": {
   "codemirror_mode": {
    "name": "ipython",
    "version": 3
   },
   "file_extension": ".py",
   "mimetype": "text/x-python",
   "name": "python",
   "nbconvert_exporter": "python",
   "pygments_lexer": "ipython3",
   "version": "3.9.12"
  }
 },
 "nbformat": 4,
 "nbformat_minor": 5
}
