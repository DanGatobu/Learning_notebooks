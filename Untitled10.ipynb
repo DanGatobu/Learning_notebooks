{
 "cells": [
  {
   "cell_type": "code",
   "execution_count": 4,
   "id": "d624b11e",
   "metadata": {},
   "outputs": [
    {
     "ename": "SyntaxError",
     "evalue": "invalid syntax (2315065245.py, line 12)",
     "output_type": "error",
     "traceback": [
      "\u001b[1;36m  Input \u001b[1;32mIn [4]\u001b[1;36m\u001b[0m\n\u001b[1;33m    if anotherzero==0\u001b[0m\n\u001b[1;37m                     ^\u001b[0m\n\u001b[1;31mSyntaxError\u001b[0m\u001b[1;31m:\u001b[0m invalid syntax\n"
     ]
    }
   ],
   "source": [
    "s='aaa'\n",
    "lis=[]\n",
    "start=0\n",
    "for d in s:\n",
    "    value=d\n",
    "    start=+1\n",
    "    lis.append(value)\n",
    "    \n",
    "lengthlist=len(lis)\n",
    "anotherzero=0\n",
    "for h in range(lengthlist):\n",
    "    if anotherzero==0\n",
    "        firstvalue=lis[0]\n",
    "        secodvalue=lis[1]\n",
    "        addedvalue=firstvalue+secondvalue\n",
    "        secondaddedvalue=secondvalue+firstvalue\n",
    "        if addedvalue==secondvalue:\n",
    "            start=+1\n",
    "    else:\n",
    "        \n",
    "        lastindex=h-1\n",
    "        lastvalue=list[lastindex]\n",
    "        nowvalue=list[h]\n",
    "        \n",
    "        addedvalue=lastvalue+nowvalue\n",
    "        secondval=nowvalue+lastvalue\n",
    "        if addedvalue==secodval:\n",
    "            start=+1\n",
    "        ih h=>3:\n",
    "            valu=[]\n",
    "            for num in range(h):\n",
    "                word=[lis[num]]\n",
    "                valu.append(word)\n",
    "            fuj=[]\n",
    "            for bun in range(h,0,-1):\n",
    "                fuj.append(bun)\n",
    "            for bn in range(len(fun))\n",
    "                \n",
    "                \n",
    "                \n",
    "            x=''.join(valu)\n",
    "            \n",
    "                \n",
    "                \n",
    "                \n",
    "        \n",
    "        \n",
    "        \n",
    "    \n",
    "    "
   ]
  },
  {
   "cell_type": "code",
   "execution_count": null,
   "id": "1c2013a4",
   "metadata": {},
   "outputs": [],
   "source": []
  }
 ],
 "metadata": {
  "kernelspec": {
   "display_name": "Python 3 (ipykernel)",
   "language": "python",
   "name": "python3"
  },
  "language_info": {
   "codemirror_mode": {
    "name": "ipython",
    "version": 3
   },
   "file_extension": ".py",
   "mimetype": "text/x-python",
   "name": "python",
   "nbconvert_exporter": "python",
   "pygments_lexer": "ipython3",
   "version": "3.9.12"
  }
 },
 "nbformat": 4,
 "nbformat_minor": 5
}
