{
 "cells": [
  {
   "cell_type": "code",
   "execution_count": 1,
   "id": "b7dde11a",
   "metadata": {},
   "outputs": [
    {
     "data": {
      "text/html": [
       "<div>\n",
       "<style scoped>\n",
       "    .dataframe tbody tr th:only-of-type {\n",
       "        vertical-align: middle;\n",
       "    }\n",
       "\n",
       "    .dataframe tbody tr th {\n",
       "        vertical-align: top;\n",
       "    }\n",
       "\n",
       "    .dataframe thead th {\n",
       "        text-align: right;\n",
       "    }\n",
       "</style>\n",
       "<table border=\"1\" class=\"dataframe\">\n",
       "  <thead>\n",
       "    <tr style=\"text-align: right;\">\n",
       "      <th></th>\n",
       "      <th>bpm</th>\n",
       "      <th>nrgy</th>\n",
       "      <th>dnce</th>\n",
       "    </tr>\n",
       "  </thead>\n",
       "  <tbody>\n",
       "    <tr>\n",
       "      <th>0</th>\n",
       "      <td>135</td>\n",
       "      <td>43</td>\n",
       "      <td>70</td>\n",
       "    </tr>\n",
       "    <tr>\n",
       "      <th>1</th>\n",
       "      <td>140</td>\n",
       "      <td>32</td>\n",
       "      <td>78</td>\n",
       "    </tr>\n",
       "    <tr>\n",
       "      <th>2</th>\n",
       "      <td>136</td>\n",
       "      <td>62</td>\n",
       "      <td>88</td>\n",
       "    </tr>\n",
       "    <tr>\n",
       "      <th>3</th>\n",
       "      <td>117</td>\n",
       "      <td>55</td>\n",
       "      <td>76</td>\n",
       "    </tr>\n",
       "    <tr>\n",
       "      <th>4</th>\n",
       "      <td>160</td>\n",
       "      <td>52</td>\n",
       "      <td>59</td>\n",
       "    </tr>\n",
       "    <tr>\n",
       "      <th>...</th>\n",
       "      <td>...</td>\n",
       "      <td>...</td>\n",
       "      <td>...</td>\n",
       "    </tr>\n",
       "    <tr>\n",
       "      <th>589</th>\n",
       "      <td>130</td>\n",
       "      <td>66</td>\n",
       "      <td>51</td>\n",
       "    </tr>\n",
       "    <tr>\n",
       "      <th>590</th>\n",
       "      <td>73</td>\n",
       "      <td>41</td>\n",
       "      <td>39</td>\n",
       "    </tr>\n",
       "    <tr>\n",
       "      <th>591</th>\n",
       "      <td>114</td>\n",
       "      <td>77</td>\n",
       "      <td>68</td>\n",
       "    </tr>\n",
       "    <tr>\n",
       "      <th>592</th>\n",
       "      <td>129</td>\n",
       "      <td>68</td>\n",
       "      <td>49</td>\n",
       "    </tr>\n",
       "    <tr>\n",
       "      <th>593</th>\n",
       "      <td>199</td>\n",
       "      <td>73</td>\n",
       "      <td>42</td>\n",
       "    </tr>\n",
       "  </tbody>\n",
       "</table>\n",
       "<p>594 rows × 3 columns</p>\n",
       "</div>"
      ],
      "text/plain": [
       "     bpm  nrgy  dnce\n",
       "0    135    43    70\n",
       "1    140    32    78\n",
       "2    136    62    88\n",
       "3    117    55    76\n",
       "4    160    52    59\n",
       "..   ...   ...   ...\n",
       "589  130    66    51\n",
       "590   73    41    39\n",
       "591  114    77    68\n",
       "592  129    68    49\n",
       "593  199    73    42\n",
       "\n",
       "[594 rows x 3 columns]"
      ]
     },
     "execution_count": 1,
     "metadata": {},
     "output_type": "execute_result"
    }
   ],
   "source": [
    "%matplotlib inline\n",
    "import numpy as np\n",
    "import pandas as pd\n",
    "import matplotlib.pyplot as plt\n",
    "\n",
    "\n",
    "songs_2010=pd.read_csv('2010.csv')\n",
    "songs_2000=pd.read_csv('2000.csv')\n",
    "songs_1990=pd.read_csv('1990.csv')\n",
    "songs_1980=pd.read_csv('1980.csv')\n",
    "songs_1970=pd.read_csv('1970.csv')\n",
    "songs_1960=pd.read_csv('1960.csv')\n",
    "\n",
    "allsongs=pd.concat([songs_2010,songs_2000,songs_1990,songs_1980,songs_1970,songs_1960],axis=0, ignore_index=True)\n",
    "\n",
    "\n",
    "features=['bpm','nrgy','dnce']\n",
    "info=allsongs.dropna(subset=features)\n",
    "\n",
    "data=info[features].copy()\n",
    "\n",
    "data\n",
    "\n"
   ]
  },
  {
   "cell_type": "code",
   "execution_count": 2,
   "id": "5898ef08",
   "metadata": {
    "scrolled": true
   },
   "outputs": [],
   "source": [
    "\n",
    "data = (data - data.min()) / (data.max() - data.min())\n"
   ]
  },
  {
   "cell_type": "code",
   "execution_count": 3,
   "id": "95c2e7ad",
   "metadata": {},
   "outputs": [
    {
     "data": {
      "text/html": [
       "<div>\n",
       "<style scoped>\n",
       "    .dataframe tbody tr th:only-of-type {\n",
       "        vertical-align: middle;\n",
       "    }\n",
       "\n",
       "    .dataframe tbody tr th {\n",
       "        vertical-align: top;\n",
       "    }\n",
       "\n",
       "    .dataframe thead th {\n",
       "        text-align: right;\n",
       "    }\n",
       "</style>\n",
       "<table border=\"1\" class=\"dataframe\">\n",
       "  <thead>\n",
       "    <tr style=\"text-align: right;\">\n",
       "      <th></th>\n",
       "      <th>bpm</th>\n",
       "      <th>nrgy</th>\n",
       "      <th>dnce</th>\n",
       "    </tr>\n",
       "  </thead>\n",
       "  <tbody>\n",
       "    <tr>\n",
       "      <th>count</th>\n",
       "      <td>594.000000</td>\n",
       "      <td>594.000000</td>\n",
       "      <td>594.000000</td>\n",
       "    </tr>\n",
       "    <tr>\n",
       "      <th>mean</th>\n",
       "      <td>0.424095</td>\n",
       "      <td>0.623952</td>\n",
       "      <td>0.545632</td>\n",
       "    </tr>\n",
       "    <tr>\n",
       "      <th>std</th>\n",
       "      <td>0.178703</td>\n",
       "      <td>0.211470</td>\n",
       "      <td>0.193806</td>\n",
       "    </tr>\n",
       "    <tr>\n",
       "      <th>min</th>\n",
       "      <td>0.000000</td>\n",
       "      <td>0.000000</td>\n",
       "      <td>0.000000</td>\n",
       "    </tr>\n",
       "    <tr>\n",
       "      <th>25%</th>\n",
       "      <td>0.301095</td>\n",
       "      <td>0.470745</td>\n",
       "      <td>0.421053</td>\n",
       "    </tr>\n",
       "    <tr>\n",
       "      <th>50%</th>\n",
       "      <td>0.423358</td>\n",
       "      <td>0.648936</td>\n",
       "      <td>0.565789</td>\n",
       "    </tr>\n",
       "    <tr>\n",
       "      <th>75%</th>\n",
       "      <td>0.525547</td>\n",
       "      <td>0.787234</td>\n",
       "      <td>0.684211</td>\n",
       "    </tr>\n",
       "    <tr>\n",
       "      <th>max</th>\n",
       "      <td>1.000000</td>\n",
       "      <td>1.000000</td>\n",
       "      <td>1.000000</td>\n",
       "    </tr>\n",
       "  </tbody>\n",
       "</table>\n",
       "</div>"
      ],
      "text/plain": [
       "              bpm        nrgy        dnce\n",
       "count  594.000000  594.000000  594.000000\n",
       "mean     0.424095    0.623952    0.545632\n",
       "std      0.178703    0.211470    0.193806\n",
       "min      0.000000    0.000000    0.000000\n",
       "25%      0.301095    0.470745    0.421053\n",
       "50%      0.423358    0.648936    0.565789\n",
       "75%      0.525547    0.787234    0.684211\n",
       "max      1.000000    1.000000    1.000000"
      ]
     },
     "execution_count": 3,
     "metadata": {},
     "output_type": "execute_result"
    }
   ],
   "source": [
    "data.describe()\n"
   ]
  },
  {
   "cell_type": "code",
   "execution_count": 4,
   "id": "f7fcd841",
   "metadata": {},
   "outputs": [],
   "source": [
    "def random_centroids(data,k):\n",
    "    centroids=[]\n",
    "    for i in range(k):\n",
    "        centroid=data.apply(lambda x:float(x.sample()))\n",
    "        centroids.append(centroid)\n",
    "    return pd.concat(centroids,axis=1)"
   ]
  },
  {
   "cell_type": "code",
   "execution_count": 5,
   "id": "39929cae",
   "metadata": {},
   "outputs": [],
   "source": [
    "centroids=random_centroids(data,5)\n"
   ]
  },
  {
   "cell_type": "code",
   "execution_count": 6,
   "id": "ac3513de",
   "metadata": {},
   "outputs": [
    {
     "data": {
      "text/html": [
       "<div>\n",
       "<style scoped>\n",
       "    .dataframe tbody tr th:only-of-type {\n",
       "        vertical-align: middle;\n",
       "    }\n",
       "\n",
       "    .dataframe tbody tr th {\n",
       "        vertical-align: top;\n",
       "    }\n",
       "\n",
       "    .dataframe thead th {\n",
       "        text-align: right;\n",
       "    }\n",
       "</style>\n",
       "<table border=\"1\" class=\"dataframe\">\n",
       "  <thead>\n",
       "    <tr style=\"text-align: right;\">\n",
       "      <th></th>\n",
       "      <th>0</th>\n",
       "      <th>1</th>\n",
       "      <th>2</th>\n",
       "      <th>3</th>\n",
       "      <th>4</th>\n",
       "    </tr>\n",
       "  </thead>\n",
       "  <tbody>\n",
       "    <tr>\n",
       "      <th>bpm</th>\n",
       "      <td>0.452555</td>\n",
       "      <td>0.430657</td>\n",
       "      <td>0.379562</td>\n",
       "      <td>0.525547</td>\n",
       "      <td>0.459854</td>\n",
       "    </tr>\n",
       "    <tr>\n",
       "      <th>nrgy</th>\n",
       "      <td>0.255319</td>\n",
       "      <td>0.351064</td>\n",
       "      <td>0.468085</td>\n",
       "      <td>0.744681</td>\n",
       "      <td>0.414894</td>\n",
       "    </tr>\n",
       "    <tr>\n",
       "      <th>dnce</th>\n",
       "      <td>0.263158</td>\n",
       "      <td>0.736842</td>\n",
       "      <td>0.421053</td>\n",
       "      <td>0.631579</td>\n",
       "      <td>0.697368</td>\n",
       "    </tr>\n",
       "  </tbody>\n",
       "</table>\n",
       "</div>"
      ],
      "text/plain": [
       "             0         1         2         3         4\n",
       "bpm   0.452555  0.430657  0.379562  0.525547  0.459854\n",
       "nrgy  0.255319  0.351064  0.468085  0.744681  0.414894\n",
       "dnce  0.263158  0.736842  0.421053  0.631579  0.697368"
      ]
     },
     "execution_count": 6,
     "metadata": {},
     "output_type": "execute_result"
    }
   ],
   "source": [
    "centroids"
   ]
  },
  {
   "cell_type": "code",
   "execution_count": 7,
   "id": "9e744618",
   "metadata": {},
   "outputs": [],
   "source": [
    "def get_lables(data,centroids):\n",
    "    distances=centroids.apply(lambda x:np.sqrt(((data-x)**2).sum(axis=1)))\n",
    "    return distances.idxmin(axis=1)\n"
   ]
  },
  {
   "cell_type": "code",
   "execution_count": 8,
   "id": "177daeb8",
   "metadata": {
    "scrolled": true
   },
   "outputs": [],
   "source": [
    "labels=get_lables(data,centroids)"
   ]
  },
  {
   "cell_type": "code",
   "execution_count": 9,
   "id": "70909a94",
   "metadata": {},
   "outputs": [
    {
     "data": {
      "text/plain": [
       "3    292\n",
       "2    148\n",
       "4     68\n",
       "0     51\n",
       "1     35\n",
       "dtype: int64"
      ]
     },
     "execution_count": 9,
     "metadata": {},
     "output_type": "execute_result"
    }
   ],
   "source": [
    "labels.value_counts()"
   ]
  },
  {
   "cell_type": "code",
   "execution_count": 10,
   "id": "d18c52a0",
   "metadata": {},
   "outputs": [],
   "source": [
    "def new_centroids(data,labels,k):\n",
    "    centroids=data.groupby(labels).apply(lambda x: np.exp(np.log(x).mean())).T\n",
    "    return centroids"
   ]
  },
  {
   "cell_type": "code",
   "execution_count": 11,
   "id": "ced88ef3",
   "metadata": {},
   "outputs": [],
   "source": [
    "from sklearn.decomposition import PCA\n",
    "from IPython.display import clear_output"
   ]
  },
  {
   "cell_type": "code",
   "execution_count": 12,
   "id": "8401e2ef",
   "metadata": {},
   "outputs": [],
   "source": [
    "def plot_clusters(data,labels,centroids,iterations):\n",
    "    pca=PCA(n_components=2)\n",
    "    data_2d=pca.fit_transform(data)\n",
    "    centroids_2d=pca.fit_transform(centroids.T)\n",
    "    clear_output(wait=True)\n",
    "    plt.title(f'iteration:{iteration}')\n",
    "    plt.scatter(x=data_2d[:,0],y=data_2d[:,1],c=labels)\n",
    "    plt.scatter(x=centroids_2d[:,0],y=centroids_2d[:,0])\n",
    "    plt.show()\n",
    "    "
   ]
  },
  {
   "cell_type": "code",
   "execution_count": 14,
   "id": "3c3cc8a4",
   "metadata": {
    "scrolled": true
   },
   "outputs": [
    {
     "data": {
      "image/png": "[encoded data removed]",
      "text/plain": [
       "<Figure size 432x288 with 1 Axes>"
      ]
     },
     "metadata": {
      "needs_background": "light"
     },
     "output_type": "display_data"
    }
   ],
   "source": [
    "max_iterations=100\n",
    "k=2\n",
    "centroids=random_centroids(data,k)\n",
    "old_centroids=pd.DataFrame()\n",
    "iteration=1\n",
    "\n",
    "while iteration<max_iterations and not centroids.equals(old_centroids):\n",
    "    old_centroids=centroids\n",
    "    labels=get_lables(data,centroids)\n",
    "    centroids=new_centroids(data,labels,k)\n",
    "    plot_clusters(data,labels,centroids,iteration)\n",
    "    iteration+=1\n",
    "    "
   ]
  },
  {
   "cell_type": "code",
   "execution_count": null,
   "id": "b4aec045",
   "metadata": {},
   "outputs": [],
   "source": []
  },
  {
   "cell_type": "code",
   "execution_count": null,
   "id": "e4b4b07d",
   "metadata": {},
   "outputs": [],
   "source": []
  }
 ],
 "metadata": {
  "kernelspec": {
   "display_name": "Python 3 (ipykernel)",
   "language": "python",
   "name": "python3"
  },
  "language_info": {
   "codemirror_mode": {
    "name": "ipython",
    "version": 3
   },
   "file_extension": ".py",
   "mimetype": "text/x-python",
   "name": "python",
   "nbconvert_exporter": "python",
   "pygments_lexer": "ipython3",
   "version": "3.9.12"
  }
 },
 "nbformat": 4,
 "nbformat_minor": 5
}
